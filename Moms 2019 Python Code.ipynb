{
 "cells": [
  {
   "cell_type": "code",
   "execution_count": 1,
   "metadata": {},
   "outputs": [
    {
     "name": "stderr",
     "output_type": "stream",
     "text": [
      "/Applications/anaconda3/lib/python3.8/site-packages/psaw/PushshiftAPI.py:192: UserWarning: Got non 200 code 502\n",
      "  warnings.warn(\"Got non 200 code %s\" % response.status_code)\n",
      "/Applications/anaconda3/lib/python3.8/site-packages/psaw/PushshiftAPI.py:180: UserWarning: Unable to connect to pushshift.io. Retrying after backoff.\n",
      "  warnings.warn(\"Unable to connect to pushshift.io. Retrying after backoff.\")\n"
     ]
    }
   ],
   "source": [
    "# load libraries\n",
    "import pandas as pd\n",
    "import datetime as dt\n",
    "from psaw import PushshiftAPI\n",
    "import os\n",
    "\n",
    "# set API\n",
    "api = PushshiftAPI()\n",
    "\n",
    "# Set beging and end date of period interested in\n",
    "start_2019=int(dt.datetime(2019, 3, 16).timestamp())\n",
    "end_2019=int(dt.datetime(2019, 9, 16).timestamp())\n",
    "\n",
    "# Create empty lists\n",
    "subm_list_moms = []\n",
    "\n",
    "# Fill lists with data from API\n",
    "# Here: search submissions made to subreddit democrats which contain kavanaugh\n",
    "subm_list_moms = list(api.search_submissions(\n",
    "                            before=end_2019,\n",
    "                            after=start_2019,               \n",
    "                            subreddit='mommit'))\n",
    "\n",
    "# Save as .csv\n",
    "pd.DataFrame([s.d_ for s in subm_list_moms]).to_csv('subm_list_moms_2019.csv', index=False)\n",
    "\n",
    "# get list of submissions from objects above to download comments\n",
    "list_submission_ids_moms = [s.id for s in subm_list_moms]\n",
    "\n",
    "# generate empty list of comments\n",
    "all_comments_moms = []\n",
    "\n",
    "# loop through submission ids\n",
    "for submission_id in list_submission_ids_moms:\n",
    "   # use the link_id option to add submission id\n",
    "   comments_for_submission =  list(api.search_comments(link_id = submission_id))\n",
    "   # add list of current comments to list of comments\n",
    "   all_comments_moms = all_comments_moms + [c.d_ for c in comments_for_submission]\n",
    "# transform to data frame\n",
    "all_comments_moms_df = pd.DataFrame(all_comments_moms)\n",
    "\n",
    "# save comments as csv\n",
    "all_comments_moms_df.to_csv('all_comments_moms_2019.csv', sep='\\t', encoding='utf-8')"
   ]
  },
  {
   "cell_type": "code",
   "execution_count": 1,
   "metadata": {},
   "outputs": [
    {
     "name": "stderr",
     "output_type": "stream",
     "text": [
      "/Applications/anaconda3/lib/python3.8/site-packages/psaw/PushshiftAPI.py:192: UserWarning: Got non 200 code 429\n",
      "  warnings.warn(\"Got non 200 code %s\" % response.status_code)\n",
      "/Applications/anaconda3/lib/python3.8/site-packages/psaw/PushshiftAPI.py:180: UserWarning: Unable to connect to pushshift.io. Retrying after backoff.\n",
      "  warnings.warn(\"Unable to connect to pushshift.io. Retrying after backoff.\")\n",
      "/Applications/anaconda3/lib/python3.8/site-packages/psaw/PushshiftAPI.py:192: UserWarning: Got non 200 code 522\n",
      "  warnings.warn(\"Got non 200 code %s\" % response.status_code)\n"
     ]
    }
   ],
   "source": [
    "# load libraries\n",
    "import pandas as pd\n",
    "import datetime as dt\n",
    "from psaw import PushshiftAPI\n",
    "import os\n",
    "\n",
    "# set API\n",
    "api = PushshiftAPI()\n",
    "\n",
    "# Set beging and end date of period interested in\n",
    "start_2019=int(dt.datetime(2019, 3, 16).timestamp())\n",
    "end_2019=int(dt.datetime(2019, 9, 16).timestamp())\n",
    "\n",
    "# Create empty lists\n",
    "subm_list_moms = []\n",
    "\n",
    "# Fill lists with data from API\n",
    "# Here: search submissions made to subreddit democrats which contain kavanaugh\n",
    "subm_list_moms = list(api.search_submissions(\n",
    "                            before=end_2019,\n",
    "                            after=start_2019,               \n",
    "                            subreddit='mommit'))\n",
    "\n",
    "# Save as .csv\n",
    "pd.DataFrame([s.d_ for s in subm_list_moms]).to_csv('subm_list_moms_2019.csv', index=False)\n"
   ]
  },
  {
   "cell_type": "code",
   "execution_count": null,
   "metadata": {},
   "outputs": [],
   "source": []
  }
 ],
 "metadata": {
  "kernelspec": {
   "display_name": "Python 3",
   "language": "python",
   "name": "python3"
  },
  "language_info": {
   "codemirror_mode": {
    "name": "ipython",
    "version": 3
   },
   "file_extension": ".py",
   "mimetype": "text/x-python",
   "name": "python",
   "nbconvert_exporter": "python",
   "pygments_lexer": "ipython3",
   "version": "3.8.3"
  }
 },
 "nbformat": 4,
 "nbformat_minor": 4
}
