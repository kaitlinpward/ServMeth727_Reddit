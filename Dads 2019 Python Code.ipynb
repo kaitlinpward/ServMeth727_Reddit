{
 "cells": [
  {
   "cell_type": "code",
   "execution_count": 1,
   "metadata": {},
   "outputs": [
    {
     "name": "stderr",
     "output_type": "stream",
     "text": [
      "/Applications/anaconda3/lib/python3.8/site-packages/psaw/PushshiftAPI.py:192: UserWarning: Got non 200 code 429\n",
      "  warnings.warn(\"Got non 200 code %s\" % response.status_code)\n",
      "/Applications/anaconda3/lib/python3.8/site-packages/psaw/PushshiftAPI.py:180: UserWarning: Unable to connect to pushshift.io. Retrying after backoff.\n",
      "  warnings.warn(\"Unable to connect to pushshift.io. Retrying after backoff.\")\n"
     ]
    }
   ],
   "source": [
    "# load libraries\n",
    "import pandas as pd\n",
    "import datetime as dt\n",
    "from psaw import PushshiftAPI\n",
    "import os\n",
    "\n",
    "# set API\n",
    "api = PushshiftAPI()\n",
    "\n",
    "# Set beging and end date of period interested in\n",
    "start_2019=int(dt.datetime(2019, 3, 16).timestamp())\n",
    "end_2019=int(dt.datetime(2019, 9, 16).timestamp())\n",
    "\n",
    "# Create empty lists\n",
    "subm_list_dads = []\n",
    "\n",
    "# Same for dads\n",
    "subm_list_dads = list(api.search_submissions(\n",
    "                            before=end_2019,\n",
    "                            after=start_2019,               \n",
    "                            subreddit='daddit'))\n",
    "\n",
    "pd.DataFrame([s.d_ for s in subm_list_dads]).to_csv('subm_list_dads.csv', index=False)\n",
    "\n",
    "# get list of submissions from objects above to download comments\n",
    "list_submission_ids_dads = [s.id for s in subm_list_dads]\n",
    "\n",
    "# generate empty list of comments\n",
    "all_comments_dads = []\n",
    "\n",
    "# same for dads\n",
    "for submission_id in list_submission_ids_dads:\n",
    "   # use the link_id option to add submission id\n",
    "   comments_for_submission =  list(api.search_comments(link_id = submission_id))\n",
    "   # add list of current comments to list of comments\n",
    "   all_comments_dads = all_comments_dads + [c.d_ for c in comments_for_submission]\n",
    "# transform to data frame\n",
    "all_comments_dads_df = pd.DataFrame(all_comments_dads)\n",
    "\n",
    "# Same\n",
    "all_comments_dads_df.to_csv('all_comments_dads.csv', sep='\\t', encoding='utf-8')\n"
   ]
  },
  {
   "cell_type": "code",
   "execution_count": 1,
   "metadata": {},
   "outputs": [
    {
     "name": "stdout",
     "output_type": "stream",
     "text": [
      "Collecting pushshift.py\n",
      "  Downloading pushshift.py-0.1.2-py3-none-any.whl (9.9 kB)\n",
      "Requirement already satisfied: requests in /Applications/anaconda3/lib/python3.8/site-packages (from pushshift.py) (2.24.0)\n",
      "Requirement already satisfied: certifi>=2017.4.17 in /Applications/anaconda3/lib/python3.8/site-packages (from requests->pushshift.py) (2020.6.20)\n",
      "Requirement already satisfied: urllib3!=1.25.0,!=1.25.1,<1.26,>=1.21.1 in /Applications/anaconda3/lib/python3.8/site-packages (from requests->pushshift.py) (1.25.9)\n",
      "Requirement already satisfied: chardet<4,>=3.0.2 in /Applications/anaconda3/lib/python3.8/site-packages (from requests->pushshift.py) (3.0.4)\n",
      "Requirement already satisfied: idna<3,>=2.5 in /Applications/anaconda3/lib/python3.8/site-packages (from requests->pushshift.py) (2.10)\n",
      "Installing collected packages: pushshift.py\n",
      "Successfully installed pushshift.py-0.1.2\n",
      "Note: you may need to restart the kernel to use updated packages.\n"
     ]
    }
   ],
   "source": [
    "pip install pushshift.py"
   ]
  },
  {
   "cell_type": "code",
   "execution_count": 1,
   "metadata": {},
   "outputs": [
    {
     "name": "stderr",
     "output_type": "stream",
     "text": [
      "/Applications/anaconda3/lib/python3.8/site-packages/psaw/PushshiftAPI.py:192: UserWarning: Got non 200 code 522\n",
      "  warnings.warn(\"Got non 200 code %s\" % response.status_code)\n",
      "/Applications/anaconda3/lib/python3.8/site-packages/psaw/PushshiftAPI.py:180: UserWarning: Unable to connect to pushshift.io. Retrying after backoff.\n",
      "  warnings.warn(\"Unable to connect to pushshift.io. Retrying after backoff.\")\n",
      "/Applications/anaconda3/lib/python3.8/site-packages/psaw/PushshiftAPI.py:192: UserWarning: Got non 200 code 429\n",
      "  warnings.warn(\"Got non 200 code %s\" % response.status_code)\n",
      "/Applications/anaconda3/lib/python3.8/site-packages/psaw/PushshiftAPI.py:192: UserWarning: Got non 200 code 525\n",
      "  warnings.warn(\"Got non 200 code %s\" % response.status_code)\n"
     ]
    }
   ],
   "source": [
    "# load libraries\n",
    "import pandas as pd\n",
    "import datetime as dt\n",
    "from psaw import PushshiftAPI\n",
    "import os\n",
    "\n",
    "# set API\n",
    "api = PushshiftAPI()\n",
    "\n",
    "# Set beging and end date of period interested in\n",
    "start_2019=int(dt.datetime(2019, 3, 16).timestamp())\n",
    "end_2019=int(dt.datetime(2019, 9, 16).timestamp())\n",
    "\n",
    "# Create empty lists\n",
    "subm_list_dads = []\n",
    "\n",
    "# Same for dads\n",
    "subm_list_dads = list(api.search_submissions(\n",
    "                            before=end_2019,\n",
    "                            after=start_2019,               \n",
    "                            subreddit='daddit'))\n",
    "\n",
    "pd.DataFrame([s.d_ for s in subm_list_dads]).to_csv('subm_list_dads.csv', index=False)\n"
   ]
  },
  {
   "cell_type": "code",
   "execution_count": null,
   "metadata": {},
   "outputs": [],
   "source": []
  }
 ],
 "metadata": {
  "kernelspec": {
   "display_name": "Python 3",
   "language": "python",
   "name": "python3"
  },
  "language_info": {
   "codemirror_mode": {
    "name": "ipython",
    "version": 3
   },
   "file_extension": ".py",
   "mimetype": "text/x-python",
   "name": "python",
   "nbconvert_exporter": "python",
   "pygments_lexer": "ipython3",
   "version": "3.8.3"
  }
 },
 "nbformat": 4,
 "nbformat_minor": 4
}
